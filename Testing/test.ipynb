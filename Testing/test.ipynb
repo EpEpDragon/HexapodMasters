{
 "cells": [
  {
   "cell_type": "code",
   "execution_count": 5,
   "metadata": {},
   "outputs": [
    {
     "name": "stdout",
     "output_type": "stream",
     "text": [
      "----origins----\n",
      "{\n",
      "{108.721, -62.770, 0},\n",
      "{0.000, -125.540, 0},\n",
      "{-108.721, -62.770, 0},\n",
      "{-108.721, 62.770, 0},\n",
      "{-0.000, 125.540, 0},\n",
      "{108.721, 62.770, 0},\n",
      "}\n",
      "----quats----\n",
      "{\n",
      "{0.966, 0.000, 0.000, 0.259},\n",
      "{0.707, 0.000, 0.000, 0.707},\n",
      "{0.259, 0.000, 0.000, 0.966},\n",
      "{-0.259, 0.000, 0.000, 0.966},\n",
      "{-0.707, 0.000, 0.000, 0.707},\n",
      "{-0.966, 0.000, 0.000, 0.259},\n",
      "}\n",
      "----base pos----\n",
      "{\n",
      "{207.846, -120.000, -140},\n",
      "{0.000, -240.000, -140},\n",
      "{-207.846, -120.000, -140},\n",
      "{-207.846, 120.000, -140},\n",
      "{-0.000, 240.000, -140},\n",
      "{207.846, 120.000, -140},\n",
      "}\n"
     ]
    }
   ],
   "source": [
    "# import pyrealsense2 as rs\n",
    "import numpy as np\n",
    "import math\n",
    "\n",
    "print(\"----origins----\")\n",
    "print(\"{\")\n",
    "angle = math.radians(-30)\n",
    "for i in range(6):\n",
    "    print(\"{%.3f, %.3f, 0},\" % (125.54*math.cos(angle), 125.54*math.sin(angle)))\n",
    "    angle -= 2*math.pi/6\n",
    "print(\"}\")\n",
    "\n",
    "print(\"----quats----\")\n",
    "print(\"{\")\n",
    "angle = math.radians(-30)\n",
    "for i in range(6):\n",
    "    print(\"{%.3f, %.3f, %.3f, %.3f},\" % (math.cos(-angle/2), 0, 0, math.sin(-angle/2)))\n",
    "    angle -= 2*math.pi/6\n",
    "print(\"}\")\n",
    "\n",
    "print(\"----base pos----\")\n",
    "angle = math.radians(-30)\n",
    "print(\"{\")\n",
    "for i in range(6):\n",
    "    print(\"{%.3f, %.3f, -140},\" % (240*math.cos(angle), 240*math.sin(angle)))\n",
    "    angle -= 2*math.pi/6\n",
    "print(\"}\")\n",
    "\n"
   ]
  },
  {
   "cell_type": "code",
   "execution_count": 87,
   "metadata": {},
   "outputs": [
    {
     "name": "stdout",
     "output_type": "stream",
     "text": [
      "(-Px(t)*Derivative(Py(t), t) + Py(t)*Derivative(Px(t), t))/(Px(t)**2 + Py(t)**2)\n",
      "(-((L1 - d(t))*Derivative(Pz(t), t) + Pz(t)*Derivative(d(t), t))*alpha(t) + ((L1 - d(t))**2 + Pz(t)**2)*atan((L1 - d(t))/Pz(t))*Derivative(alpha(t), t))/((L1 - d(t))**2 + Pz(t)**2)\n",
      "-Derivative(beta(t), t)\n"
     ]
    },
    {
     "data": {
      "text/latex": [
       "$\\displaystyle \\frac{d}{dt}\\theta_1 = \\frac{- \\frac{\\operatorname{Px}{\\left(t \\right)} \\frac{d}{d t} \\operatorname{Py}{\\left(t \\right)}}{\\operatorname{Py}^{2}{\\left(t \\right)}} + \\frac{\\frac{d}{d t} \\operatorname{Px}{\\left(t \\right)}}{\\operatorname{Py}{\\left(t \\right)}}}{\\frac{\\operatorname{Px}^{2}{\\left(t \\right)}}{\\operatorname{Py}^{2}{\\left(t \\right)}} + 1}$"
      ],
      "text/plain": [
       "<IPython.core.display.Math object>"
      ]
     },
     "metadata": {},
     "output_type": "display_data"
    },
    {
     "data": {
      "text/latex": [
       "$\\displaystyle = \\frac{- \\operatorname{Px}{\\left(t \\right)} \\frac{d}{d t} \\operatorname{Py}{\\left(t \\right)} + \\operatorname{Py}{\\left(t \\right)} \\frac{d}{d t} \\operatorname{Px}{\\left(t \\right)}}{\\operatorname{Px}^{2}{\\left(t \\right)} + \\operatorname{Py}^{2}{\\left(t \\right)}}$"
      ],
      "text/plain": [
       "<IPython.core.display.Math object>"
      ]
     },
     "metadata": {},
     "output_type": "display_data"
    },
    {
     "data": {
      "text/latex": [
       "$\\displaystyle \\frac{d}{dt}\\theta_2 = - \\operatorname{atan}{\\left(\\frac{- L_{1} + d{\\left(t \\right)}}{\\operatorname{Pz}{\\left(t \\right)}} \\right)} \\frac{d}{d t} \\alpha{\\left(t \\right)} - \\frac{\\left(- \\frac{\\left(- L_{1} + d{\\left(t \\right)}\\right) \\frac{d}{d t} \\operatorname{Pz}{\\left(t \\right)}}{\\operatorname{Pz}^{2}{\\left(t \\right)}} + \\frac{\\frac{d}{d t} d{\\left(t \\right)}}{\\operatorname{Pz}{\\left(t \\right)}}\\right) \\alpha{\\left(t \\right)}}{\\frac{\\left(- L_{1} + d{\\left(t \\right)}\\right)^{2}}{\\operatorname{Pz}^{2}{\\left(t \\right)}} + 1}$"
      ],
      "text/plain": [
       "<IPython.core.display.Math object>"
      ]
     },
     "metadata": {},
     "output_type": "display_data"
    },
    {
     "data": {
      "text/latex": [
       "$\\displaystyle = \\frac{- \\left(\\left(L_{1} - d{\\left(t \\right)}\\right) \\frac{d}{d t} \\operatorname{Pz}{\\left(t \\right)} + \\operatorname{Pz}{\\left(t \\right)} \\frac{d}{d t} d{\\left(t \\right)}\\right) \\alpha{\\left(t \\right)} + \\left(\\left(L_{1} - d{\\left(t \\right)}\\right)^{2} + \\operatorname{Pz}^{2}{\\left(t \\right)}\\right) \\operatorname{atan}{\\left(\\frac{L_{1} - d{\\left(t \\right)}}{\\operatorname{Pz}{\\left(t \\right)}} \\right)} \\frac{d}{d t} \\alpha{\\left(t \\right)}}{\\left(L_{1} - d{\\left(t \\right)}\\right)^{2} + \\operatorname{Pz}^{2}{\\left(t \\right)}}$"
      ],
      "text/plain": [
       "<IPython.core.display.Math object>"
      ]
     },
     "metadata": {},
     "output_type": "display_data"
    },
    {
     "data": {
      "text/latex": [
       "$\\displaystyle \\frac{d}{dt}\\theta_3 = - \\frac{d}{d t} \\beta{\\left(t \\right)}$"
      ],
      "text/plain": [
       "<IPython.core.display.Math object>"
      ]
     },
     "metadata": {},
     "output_type": "display_data"
    }
   ],
   "source": [
    "from sympy import *\n",
    "from IPython.display import display, Math\n",
    "init_printing()\n",
    "t,L1,L2,L3 = symbols('t L1 L2 L3')\n",
    "# theta1 = Function('theta1')\n",
    "# theta2 = Function('theta2')\n",
    "# theta3 = Function('theta3')\n",
    "Px = Function('Px')\n",
    "Py = Function('Py')\n",
    "Pz = Function('Pz')\n",
    "\n",
    "c_sym = Function('c')\n",
    "d_sym = Function('d')\n",
    "alpha_sym = Function('alpha')\n",
    "beta_sym = Function('beta')\n",
    "\n",
    "theta1 = atan(Px(t)/Py(t))\n",
    "dt_theta1 = diff(theta1, t)\n",
    "print(simplify(dt_theta1))\n",
    "\n",
    "theta2 = 90 - alpha_sym(t)*atan((d_sym(t)-L1)/Pz(t))\n",
    "dt_theta2 = diff(theta2, t)\n",
    "print(simplify(dt_theta2))\n",
    "\n",
    "theta3 = 180 - beta_sym(t)\n",
    "dt_theta3 = diff(theta3, t)\n",
    "print(simplify(dt_theta3))\n",
    "\n",
    "# Display\n",
    "dt_theta_str = \"\\\\frac{d}{dt}\\\\theta_1\"\n",
    "display(Math(f\"{dt_theta_str} = {latex(dt_theta1)}\"))\n",
    "display(Math(f\"= {latex(simplify(dt_theta1))}\"))\n",
    "\n",
    "dt_theta_str = \"\\\\frac{d}{dt}\\\\theta_2\"\n",
    "display(Math(f\"{dt_theta_str} = {latex((dt_theta2))}\"))\n",
    "display(Math(f\"= {latex(simplify(dt_theta2))}\"))\n",
    "\n",
    "dt_theta_str = \"\\\\frac{d}{dt}\\\\theta_3\"\n",
    "display(Math(f\"{dt_theta_str} = {latex((dt_theta3))}\"))"
   ]
  },
  {
   "cell_type": "code",
   "execution_count": 88,
   "metadata": {},
   "outputs": [
    {
     "data": {
      "text/latex": [
       "$\\displaystyle \\frac{d}{dt}d = 2 \\operatorname{Px}{\\left(t \\right)} \\frac{d}{d t} \\operatorname{Px}{\\left(t \\right)} + 2 \\operatorname{Py}{\\left(t \\right)} \\frac{d}{d t} \\operatorname{Py}{\\left(t \\right)}$"
      ],
      "text/plain": [
       "<IPython.core.display.Math object>"
      ]
     },
     "metadata": {},
     "output_type": "display_data"
    },
    {
     "data": {
      "text/latex": [
       "$\\displaystyle \\frac{d}{dt}c = \\frac{- \\left(L_{1} - d{\\left(t \\right)}\\right) \\frac{d}{d t} d{\\left(t \\right)} + \\operatorname{Pz}{\\left(t \\right)} \\frac{d}{d t} \\operatorname{Pz}{\\left(t \\right)}}{\\sqrt{\\left(L_{1} - d{\\left(t \\right)}\\right)^{2} + \\operatorname{Pz}^{2}{\\left(t \\right)}}}$"
      ],
      "text/plain": [
       "<IPython.core.display.Math object>"
      ]
     },
     "metadata": {},
     "output_type": "display_data"
    },
    {
     "data": {
      "text/latex": [
       "$\\displaystyle \\frac{d}{dt}\\beta = \\frac{L_{2} L_{3} c{\\left(t \\right)} \\frac{d}{d t} c{\\left(t \\right)}}{\\sqrt{- L_{2}^{2} L_{3}^{2} \\left(\\frac{L_{2}^{2}}{2} + \\frac{L_{3}^{2}}{2} - \\frac{c^{2}{\\left(t \\right)}}{2}\\right)^{2} + 1}}$"
      ],
      "text/plain": [
       "<IPython.core.display.Math object>"
      ]
     },
     "metadata": {},
     "output_type": "display_data"
    },
    {
     "data": {
      "text/latex": [
       "$\\displaystyle = \\frac{2 L_{2} L_{3} c{\\left(t \\right)} \\frac{d}{d t} c{\\left(t \\right)}}{\\sqrt{- L_{2}^{2} L_{3}^{2} \\left(L_{2}^{2} + L_{3}^{2} - c^{2}{\\left(t \\right)}\\right)^{2} + 4}}$"
      ],
      "text/plain": [
       "<IPython.core.display.Math object>"
      ]
     },
     "metadata": {},
     "output_type": "display_data"
    },
    {
     "data": {
      "text/latex": [
       "$\\displaystyle \\frac{d}{dt}\\alpha = \\frac{\\frac{L_{3} \\cos{\\left(\\beta{\\left(t \\right)} \\right)} \\frac{d}{d t} \\beta{\\left(t \\right)}}{c{\\left(t \\right)}} - \\frac{L_{3} \\sin{\\left(\\beta{\\left(t \\right)} \\right)} \\frac{d}{d t} c{\\left(t \\right)}}{c^{2}{\\left(t \\right)}}}{\\sqrt{- \\frac{L_{3}^{2} \\sin^{2}{\\left(\\beta{\\left(t \\right)} \\right)}}{c^{2}{\\left(t \\right)}} + 1}}$"
      ],
      "text/plain": [
       "<IPython.core.display.Math object>"
      ]
     },
     "metadata": {},
     "output_type": "display_data"
    },
    {
     "data": {
      "text/latex": [
       "$\\displaystyle = \\frac{L_{3} \\left(c{\\left(t \\right)} \\cos{\\left(\\beta{\\left(t \\right)} \\right)} \\frac{d}{d t} \\beta{\\left(t \\right)} - \\sin{\\left(\\beta{\\left(t \\right)} \\right)} \\frac{d}{d t} c{\\left(t \\right)}\\right)}{\\sqrt{- \\frac{L_{3}^{2} \\sin^{2}{\\left(\\beta{\\left(t \\right)} \\right)}}{c^{2}{\\left(t \\right)}} + 1} c^{2}{\\left(t \\right)}}$"
      ],
      "text/plain": [
       "<IPython.core.display.Math object>"
      ]
     },
     "metadata": {},
     "output_type": "display_data"
    }
   ],
   "source": [
    "\n",
    "# Horizontal leg length\n",
    "d = (Px(t)**2 + Py(t)**2)\n",
    "dt_d = diff(d,t)\n",
    "\n",
    "# Leg triangle\n",
    "a = L2\n",
    "b = L3\n",
    "c = sqrt((d_sym(t)-L1)**2 + Pz(t)**2)\n",
    "dt_c = diff(c,t)\n",
    "\n",
    "# Intermediate leg angles\n",
    "beta = acos((a**2 + b**2 -c_sym(t)**2) / 2*a*b) # Cosine rule\n",
    "dt_beta = diff(beta,t)\n",
    "\n",
    "alpha = asin(L3*sin(beta_sym(t)) / c_sym(t)) # Sine rule\n",
    "dt_alpha = diff(alpha,t)\n",
    "\n",
    "str = \"\\\\frac{d}{dt}d\"\n",
    "display(Math(f\"{str} = {latex(simplify(dt_d))}\"))\n",
    "\n",
    "str = \"\\\\frac{d}{dt}c\"\n",
    "display(Math(f\"{str} = {latex((simplify(dt_c)))}\"))\n",
    "\n",
    "str = \"\\\\frac{d}{dt}\\\\beta\"\n",
    "display(Math(f\"{str} = {latex((dt_beta))}\"))\n",
    "display(Math(f\"= {latex(simplify(dt_beta))}\"))\n",
    "\n",
    "str = \"\\\\frac{d}{dt}\\\\alpha\"\n",
    "display(Math(f\"{str} = {latex((dt_alpha))}\"))\n",
    "display(Math(f\"= {latex(simplify(dt_alpha))}\"))\n",
    "print(simplify(dt_alpha))"
   ]
  }
 ],
 "metadata": {
  "kernelspec": {
   "display_name": "Python 3",
   "language": "python",
   "name": "python3"
  },
  "language_info": {
   "codemirror_mode": {
    "name": "ipython",
    "version": 3
   },
   "file_extension": ".py",
   "mimetype": "text/x-python",
   "name": "python",
   "nbconvert_exporter": "python",
   "pygments_lexer": "ipython3",
   "version": "3.6.9"
  }
 },
 "nbformat": 4,
 "nbformat_minor": 2
}
